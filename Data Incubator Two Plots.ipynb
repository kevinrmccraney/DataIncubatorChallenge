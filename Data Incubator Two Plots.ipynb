{
 "cells": [
  {
   "cell_type": "markdown",
   "metadata": {},
   "source": [
    "# The Data Incubator: Challenge Pt. 3"
   ]
  },
  {
   "cell_type": "markdown",
   "metadata": {},
   "source": [
    "## Challenge Description:\n",
    "I am deeply interested in NLP and fakeness on the internet, so I propose a project dealing with the analysis of product reviews on consumer websites. I would like to see if there is any relationship between the sentiment score within a review and whether or not a review is likely to be fraudulent/paid. For simplicity's sake, I used the VADER sentiment scoring method across reviews in a Kaggle dataset, and figured out that not only are there slight negative correlations between the length of a review and negative sentiment, but that products with fewer reviews also have significantly higher positive and negative sentiment scores. This suggests (to me, based on some other subject matter knowledge) that product reviews might be 'seeded' with some influential reviews at the start and then average out to be more neutral over time.\n",
    "\n",
    "Given more time (and a more robust dataset that included things like product categories etc.) I would want to use a different kind of scoring system for sentiment (likely a neural network-based system) or find particular entities within the text and see if there's any connection between naming a particular entity and a higher or lower score."
   ]
  },
  {
   "cell_type": "code",
   "execution_count": 212,
   "metadata": {},
   "outputs": [],
   "source": [
    "# imports\n",
    "import pandas as pd\n",
    "from nltk.sentiment.vader import SentimentIntensityAnalyzer\n",
    "from nltk import tokenize\n",
    "import matplotlib.pyplot as plt\n",
    "import numpy as np"
   ]
  },
  {
   "cell_type": "code",
   "execution_count": 3,
   "metadata": {},
   "outputs": [],
   "source": [
    "# load the data\n",
    "# which comes from\n",
    "# https://www.kaggle.com/abhinandan103/amazon-fine-food-review\n",
    "df = pd.read_csv('Reviews.csv')"
   ]
  },
  {
   "cell_type": "code",
   "execution_count": 77,
   "metadata": {},
   "outputs": [
    {
     "data": {
      "text/plain": [
       "Index(['Id', 'ProductId', 'UserId', 'ProfileName', 'HelpfulnessNumerator',\n",
       "       'HelpfulnessDenominator', 'Score', 'Time', 'Summary', 'Text', 'tokens',\n",
       "       'com', 'neg', 'neu', 'pos', 'helpful'],\n",
       "      dtype='object')"
      ]
     },
     "execution_count": 77,
     "metadata": {},
     "output_type": "execute_result"
    }
   ],
   "source": [
    "df.columns"
   ]
  },
  {
   "cell_type": "code",
   "execution_count": 65,
   "metadata": {},
   "outputs": [],
   "source": [
    "# tokeinze\n",
    "df['tokens'] = df.apply(lambda row: tokenize.word_tokenize(str(row['Text'])), axis=1)\n",
    "\n",
    "# use vader sentiment scoring for a simple sentiment metric\n",
    "sid = SentimentIntensityAnalyzer()\n",
    "df['com'] = df.apply(lambda row: sorted(sid.polarity_scores(row['tokens'][0]).items())[0][1], axis=1)\n",
    "df['neg'] = df.apply(lambda row: sorted(sid.polarity_scores(row['tokens'][0]).items())[1][1], axis=1)\n",
    "df['neu'] = df.apply(lambda row: sorted(sid.polarity_scores(row['tokens'][0]).items())[2][1], axis=1)\n",
    "df['pos'] = df.apply(lambda row: sorted(sid.polarity_scores(row['tokens'][0]).items())[3][1], axis=1)"
   ]
  },
  {
   "cell_type": "code",
   "execution_count": 118,
   "metadata": {},
   "outputs": [
    {
     "data": {
      "text/plain": [
       "0         1.0\n",
       "1         0.0\n",
       "2         1.0\n",
       "3         1.0\n",
       "4         0.0\n",
       "5         0.0\n",
       "6         0.0\n",
       "7         0.0\n",
       "8         1.0\n",
       "9         0.0\n",
       "10        1.0\n",
       "11        1.0\n",
       "12        1.0\n",
       "13        1.0\n",
       "14        0.8\n",
       "15        0.8\n",
       "16        0.0\n",
       "17        0.0\n",
       "18        0.0\n",
       "19        0.0\n",
       "20        0.0\n",
       "21        0.0\n",
       "22        0.0\n",
       "23        0.0\n",
       "24        0.0\n",
       "25        0.0\n",
       "26        0.0\n",
       "27        0.0\n",
       "28        0.0\n",
       "29        1.0\n",
       "         ... \n",
       "568424    1.0\n",
       "568425    1.0\n",
       "568426    1.0\n",
       "568427    1.0\n",
       "568428    1.0\n",
       "568429    1.0\n",
       "568430    0.0\n",
       "568431    0.0\n",
       "568432    0.0\n",
       "568433    0.0\n",
       "568434    0.0\n",
       "568435    0.0\n",
       "568436    1.0\n",
       "568437    1.0\n",
       "568438    1.0\n",
       "568439    0.0\n",
       "568440    1.0\n",
       "568441    0.0\n",
       "568442    0.0\n",
       "568443    0.0\n",
       "568444    1.0\n",
       "568445    1.0\n",
       "568446    0.0\n",
       "568447    0.0\n",
       "568448    0.0\n",
       "568449    0.0\n",
       "568450    0.0\n",
       "568451    1.0\n",
       "568452    1.0\n",
       "568453    0.0\n",
       "Name: helpful, Length: 568454, dtype: float64"
      ]
     },
     "execution_count": 118,
     "metadata": {},
     "output_type": "execute_result"
    }
   ],
   "source": [
    "# make a 'helpfulness score', well, just because...\n",
    "df['helpful'] = (df['HelpfulnessNumerator'] / df['HelpfulnessDenominator'])\n",
    "df['helpful'].fillna(0)\n",
    "clear"
   ]
  },
  {
   "cell_type": "code",
   "execution_count": 120,
   "metadata": {},
   "outputs": [],
   "source": [
    "# get the length of reviews\n",
    "df['len'] = df.apply(lambda row: len(row['tokens']), axis=1)"
   ]
  },
  {
   "cell_type": "code",
   "execution_count": 211,
   "metadata": {},
   "outputs": [
    {
     "data": {
      "image/png": "[encoded data removed]",
      "text/plain": [
       "<Figure size 432x288 with 1 Axes>"
      ]
     },
     "metadata": {},
     "output_type": "display_data"
    }
   ],
   "source": [
    "# correlation heatmap between sentiment and length of review\n",
    "heat = df[['pos', 'neg', 'neu', 'com', 'len']]\n",
    "data = heat.corr()\n",
    "plt.imshow(data, cmap='hot', interpolation='nearest')\n",
    "plt.xlabel(['pos', 'neg', 'neu', 'com', 'len'])\n",
    "plt.ylabel(['pos', 'neg', 'neu', 'com', 'len'])\n",
    "plt.show()\n",
    "# it seems overall that there are stronger correlations between\n",
    "# negative sentiment and the length of a review than any of the\n",
    "# other sentiment scores"
   ]
  },
  {
   "cell_type": "code",
   "execution_count": 146,
   "metadata": {},
   "outputs": [
    {
     "data": {
      "text/html": [
       "<div>\n",
       "<style scoped>\n",
       "    .dataframe tbody tr th:only-of-type {\n",
       "        vertical-align: middle;\n",
       "    }\n",
       "\n",
       "    .dataframe tbody tr th {\n",
       "        vertical-align: top;\n",
       "    }\n",
       "\n",
       "    .dataframe thead th {\n",
       "        text-align: right;\n",
       "    }\n",
       "</style>\n",
       "<table border=\"1\" class=\"dataframe\">\n",
       "  <thead>\n",
       "    <tr style=\"text-align: right;\">\n",
       "      <th></th>\n",
       "      <th>com</th>\n",
       "      <th>neg</th>\n",
       "      <th>neu</th>\n",
       "      <th>pos</th>\n",
       "    </tr>\n",
       "    <tr>\n",
       "      <th>Score</th>\n",
       "      <th></th>\n",
       "      <th></th>\n",
       "      <th></th>\n",
       "      <th></th>\n",
       "    </tr>\n",
       "  </thead>\n",
       "  <tbody>\n",
       "    <tr>\n",
       "      <th>1</th>\n",
       "      <td>0.003674</td>\n",
       "      <td>0.020223</td>\n",
       "      <td>0.561835</td>\n",
       "      <td>0.029636</td>\n",
       "    </tr>\n",
       "    <tr>\n",
       "      <th>2</th>\n",
       "      <td>0.008992</td>\n",
       "      <td>0.011724</td>\n",
       "      <td>0.534885</td>\n",
       "      <td>0.032349</td>\n",
       "    </tr>\n",
       "    <tr>\n",
       "      <th>3</th>\n",
       "      <td>0.016738</td>\n",
       "      <td>0.005441</td>\n",
       "      <td>0.586280</td>\n",
       "      <td>0.043762</td>\n",
       "    </tr>\n",
       "    <tr>\n",
       "      <th>4</th>\n",
       "      <td>0.029044</td>\n",
       "      <td>0.003744</td>\n",
       "      <td>0.596107</td>\n",
       "      <td>0.063381</td>\n",
       "    </tr>\n",
       "    <tr>\n",
       "      <th>5</th>\n",
       "      <td>0.035495</td>\n",
       "      <td>0.003949</td>\n",
       "      <td>0.587318</td>\n",
       "      <td>0.069013</td>\n",
       "    </tr>\n",
       "  </tbody>\n",
       "</table>\n",
       "</div>"
      ],
      "text/plain": [
       "            com       neg       neu       pos\n",
       "Score                                        \n",
       "1      0.003674  0.020223  0.561835  0.029636\n",
       "2      0.008992  0.011724  0.534885  0.032349\n",
       "3      0.016738  0.005441  0.586280  0.043762\n",
       "4      0.029044  0.003744  0.596107  0.063381\n",
       "5      0.035495  0.003949  0.587318  0.069013"
      ]
     },
     "execution_count": 146,
     "metadata": {},
     "output_type": "execute_result"
    }
   ],
   "source": [
    "stars = df.groupby('Score').mean()\n",
    "stars[['com', 'neg', 'neu', 'pos']]"
   ]
  },
  {
   "cell_type": "code",
   "execution_count": 185,
   "metadata": {},
   "outputs": [
    {
     "data": {
      "text/plain": [
       "7.655121333728353"
      ]
     },
     "execution_count": 185,
     "metadata": {},
     "output_type": "execute_result"
    }
   ],
   "source": [
    "topmask = df.groupby('ProductId').agg(['mean', 'count'])['Id']['count']\n"
   ]
  },
  {
   "cell_type": "code",
   "execution_count": 193,
   "metadata": {},
   "outputs": [],
   "source": [
    "# get standard deviation for different bands of reviews\n",
    "group = df.groupby('ProductId').agg(['mean', 'count'])\n",
    "group.describe()\n",
    "onestd = group[topmask < 27]\n",
    "twostd = group[topmask >= 27]"
   ]
  },
  {
   "cell_type": "code",
   "execution_count": 228,
   "metadata": {},
   "outputs": [],
   "source": [
    "# collect the means for sentiment scores and then get into list for plot\n",
    "posabove = twostd['pos'].mean()['mean']\n",
    "negabove = twostd['neg'].mean()['mean']\n",
    "neuabove = twostd['neu'].mean()['mean']\n",
    "#lenabove = twostd['len'].mean()['mean']\n",
    "\n",
    "posbelow = onestd['pos'].mean()['mean']\n",
    "negbelow = onestd['neg'].mean()['mean']\n",
    "neubelow = onestd['neg'].mean()['mean']\n",
    "#lenbelow = onestd['len'].mean()['mean']\n",
    "\n",
    "below = [posbelow, negbelow, neubelow]\n",
    "above = [posabove, negabove, neuabove]"
   ]
  },
  {
   "cell_type": "code",
   "execution_count": 232,
   "metadata": {},
   "outputs": [
    {
     "data": {
      "image/png": "[encoded data removed]",
      "text/plain": [
       "<Figure size 432x288 with 1 Axes>"
      ]
     },
     "metadata": {},
     "output_type": "display_data"
    },
    {
     "data": {
      "image/png": "[encoded data removed]",
      "text/plain": [
       "<Figure size 432x288 with 1 Axes>"
      ]
     },
     "metadata": {},
     "output_type": "display_data"
    }
   ],
   "source": [
    "def plot_sent(plotlist, string):\n",
    "    objects = ['positive', 'negative', 'neutral']\n",
    "    y_pos = np.arange(len(plotlist))\n",
    "\n",
    "    plt.bar(y_pos, plotlist, align='center', alpha=0.5)\n",
    "    plt.xticks(y_pos, objects)\n",
    "    plt.ylabel('Sentiment score')\n",
    "    plt.title('Sentiment for products reviewed '+ string + ' 27 times')\n",
    "\n",
    "    plt.show()\n",
    "    \n",
    "plot_sent(below, 'below')\n",
    "plot_sent(above, 'above')\n",
    "\n",
    "# it's interesting that items with fewer than 27 reviews have higher positive sentiment"
   ]
  },
  {
   "cell_type": "code",
   "execution_count": null,
   "metadata": {},
   "outputs": [],
   "source": []
  }
 ],
 "metadata": {
  "kernelspec": {
   "display_name": "Python 3",
   "language": "python",
   "name": "python3"
  },
  "language_info": {
   "codemirror_mode": {
    "name": "ipython",
    "version": 3
   },
   "file_extension": ".py",
   "mimetype": "text/x-python",
   "name": "python",
   "nbconvert_exporter": "python",
   "pygments_lexer": "ipython3",
   "version": "3.6.5"
  }
 },
 "nbformat": 4,
 "nbformat_minor": 2
}
